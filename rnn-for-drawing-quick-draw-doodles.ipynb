{
 "cells": [
  {
   "cell_type": "code",
   "execution_count": 1,
   "metadata": {
    "_cell_guid": "b1076dfc-b9ad-4769-8c92-a6c4dae69d19",
    "_kg_hide-output": true,
    "_uuid": "8f2839f25d086af736a60e9eeb907d3b93b6e0e5"
   },
   "outputs": [
    {
     "name": "stdout",
     "output_type": "stream",
     "text": [
      "['sample_submission.csv', 'test_simplified.csv', 'test_raw.csv', 'train_simplified']\n"
     ]
    }
   ],
   "source": [
    "# Imports\n",
    "import numpy as np # linear algebra\n",
    "import pandas as pd # data processing, CSV file I/O (e.g. pd.read_csv)\n",
    "\n",
    "# Import utilities\n",
    "import os\n",
    "print(os.listdir(\"../input\"))\n",
    "import time\n",
    "import ast\n",
    "import math\n",
    "\n",
    "# Import visualization\n",
    "import matplotlib.pyplot as plt\n",
    "\n",
    "# Import torch\n",
    "import torch\n",
    "import torch.nn as nn\n",
    "import torch.nn.functional as f"
   ]
  },
  {
   "cell_type": "markdown",
   "metadata": {},
   "source": [
    "## Load data"
   ]
  },
  {
   "cell_type": "code",
   "execution_count": 2,
   "metadata": {},
   "outputs": [],
   "source": [
    "# define 10 classes to load the data for\n",
    "categories = ['cannon','eye', 'face', 'nail', 'pear','piano','radio','spider','star','sword']\n",
    "label_dict = {0:'cannon',1:'eye', 2:'face', 3:'nail', 4:'pear',\n",
    "                      5:'piano',6:'radio', 7:'spider', 8:'star', 9:'sword'}\n",
    "\n",
    "# load data for each category\n",
    "classes = {}\n",
    "for category in categories:\n",
    "    data = pd.read_csv(\"../input/train_simplified/\" + category + \".csv\")\n",
    "    classes[category] = data"
   ]
  },
  {
   "cell_type": "markdown",
   "metadata": {},
   "source": [
    "## Preprocess data"
   ]
  },
  {
   "cell_type": "code",
   "execution_count": 3,
   "metadata": {
    "_cell_guid": "79c7e3d0-c299-4dcb-8224-4455121ee9b0",
    "_uuid": "d629ff2d2480ee46fbb7e2d37f6b5fab8052498a"
   },
   "outputs": [],
   "source": [
    "category = 'pear'\n",
    "\n",
    "data = classes[category]\n",
    "values = [ast.literal_eval(img) for img in data['drawing'].values]"
   ]
  },
  {
   "cell_type": "code",
   "execution_count": 4,
   "metadata": {},
   "outputs": [],
   "source": [
    "# Source:\n",
    "# https://www.tensorflow.org/tutorials/sequences/recurrent_quickdraw\n",
    "\n",
    "def parse_line(inkarray):\n",
    "    \"\"\"Parse an ndjson line and return ink (as np array) and classname.\"\"\"\n",
    "    stroke_lengths = [len(stroke[0]) for stroke in inkarray]\n",
    "    total_points = sum(stroke_lengths)\n",
    "    np_ink = np.zeros((total_points, 3), dtype=np.float32)\n",
    "    current_t = 0\n",
    "    for stroke in inkarray:\n",
    "        for i in [0, 1]:\n",
    "            np_ink[current_t:(current_t + len(stroke[0])), i] = stroke[i]\n",
    "        current_t += len(stroke[0])\n",
    "        np_ink[current_t - 1, 2] = 1  # stroke_end\n",
    "    # Preprocessing.\n",
    "    # 1. Size normalization.\n",
    "    lower = np.min(np_ink[:, 0:2], axis=0)\n",
    "    upper = np.max(np_ink[:, 0:2], axis=0)\n",
    "    scale = upper - lower\n",
    "    scale[scale == 0] = 1\n",
    "    np_ink[:, 0:2] = (np_ink[:, 0:2] - lower) / scale\n",
    "    # 2. Compute deltas.\n",
    "    np_ink[1:, 0:2] -= np_ink[0:-1, 0:2]\n",
    "    np_ink = np_ink[1:, :]\n",
    "    return np_ink"
   ]
  },
  {
   "cell_type": "code",
   "execution_count": 5,
   "metadata": {},
   "outputs": [],
   "source": [
    "img = parse_line(values[0])"
   ]
  },
  {
   "cell_type": "code",
   "execution_count": 6,
   "metadata": {},
   "outputs": [],
   "source": [
    "parsed_strokes = [parse_line(line) for line in values]"
   ]
  },
  {
   "cell_type": "code",
   "execution_count": 7,
   "metadata": {},
   "outputs": [
    {
     "data": {
      "text/plain": [
       "[array([[-0.17361112,  0.1614173 ,  0.        ],\n",
       "        [-0.08333333,  0.12204728,  0.        ],\n",
       "        [-0.0625    ,  0.20078737,  0.        ],\n",
       "        [ 0.        ,  0.05905515,  0.        ],\n",
       "        [ 0.05555556,  0.0669291 ,  0.        ],\n",
       "        [ 0.0763889 ,  0.03543305,  0.        ],\n",
       "        [ 0.1875    ,  0.05118114,  0.        ],\n",
       "        [ 0.31944445,  0.01968503,  0.        ],\n",
       "        [ 0.24305552, -0.06299216,  0.        ],\n",
       "        [ 0.05555558, -0.03149605,  0.        ],\n",
       "        [ 0.0486111 , -0.07086611,  0.        ],\n",
       "        [ 0.0138889 , -0.14960635,  0.        ],\n",
       "        [-0.04166669, -0.12598425,  0.        ],\n",
       "        [-0.06944442, -0.07480311,  0.        ],\n",
       "        [-0.1736111 , -0.11811024,  0.        ],\n",
       "        [-0.15277779, -0.05905512,  0.        ],\n",
       "        [-0.10416666, -0.02755907,  0.        ],\n",
       "        [-0.13194445, -0.01181102,  0.        ],\n",
       "        [ 0.        , -0.00787401,  1.        ],\n",
       "        [ 0.0625    , -0.03543307,  0.        ],\n",
       "        [ 0.0138889 , -0.07086614,  0.        ],\n",
       "        [-0.0138889 , -0.14173229,  0.        ],\n",
       "        [ 0.00694445,  0.09842519,  0.        ],\n",
       "        [-0.03472224,  0.05511811,  0.        ],\n",
       "        [ 0.        ,  0.0472441 ,  0.        ],\n",
       "        [ 0.02083334,  0.01968503,  0.        ],\n",
       "        [ 0.00694445, -0.03149606,  0.        ],\n",
       "        [-0.0138889 , -0.2007874 ,  0.        ],\n",
       "        [ 0.00694445,  0.2007874 ,  1.        ]], dtype=float32)]"
      ]
     },
     "execution_count": 7,
     "metadata": {},
     "output_type": "execute_result"
    }
   ],
   "source": [
    "parsed_strokes[:1]"
   ]
  },
  {
   "cell_type": "code",
   "execution_count": 8,
   "metadata": {},
   "outputs": [],
   "source": [
    "def plot_doodle(doodle):\n",
    "    x = [0]\n",
    "    y = [0]\n",
    "    for stroke in doodle:\n",
    "        x.append(x[-1] - stroke[0])\n",
    "        y.append(y[-1] - stroke[1])\n",
    "        \n",
    "    plt.figure(figsize=(5,5))\n",
    "    plt.plot(x,y)\n",
    "    plt.show()"
   ]
  },
  {
   "cell_type": "code",
   "execution_count": 9,
   "metadata": {},
   "outputs": [
    {
     "data": {
      "image/png": "[encoded data removed]",
      "text/plain": [
       "<Figure size 360x360 with 1 Axes>"
      ]
     },
     "metadata": {
      "needs_background": "light"
     },
     "output_type": "display_data"
    }
   ],
   "source": [
    "plot_doodle(parsed_strokes[1])"
   ]
  },
  {
   "cell_type": "code",
   "execution_count": 10,
   "metadata": {},
   "outputs": [
    {
     "data": {
      "text/plain": [
       "1"
      ]
     },
     "execution_count": 10,
     "metadata": {},
     "output_type": "execute_result"
    }
   ],
   "source": [
    "lengths = [len(parse_line(line)) for line in values]\n",
    "min(lengths)"
   ]
  },
  {
   "cell_type": "code",
   "execution_count": 11,
   "metadata": {},
   "outputs": [
    {
     "data": {
      "text/plain": [
       "1048"
      ]
     },
     "execution_count": 11,
     "metadata": {},
     "output_type": "execute_result"
    }
   ],
   "source": [
    "lengths = [len(parse_line(line)) for line in values]\n",
    "max(lengths)"
   ]
  },
  {
   "cell_type": "code",
   "execution_count": 12,
   "metadata": {},
   "outputs": [
    {
     "data": {
      "text/plain": [
       "Text(0.5, 0.98, 'Distribution of strokes lengths')"
      ]
     },
     "execution_count": 12,
     "metadata": {},
     "output_type": "execute_result"
    },
    {
     "data": {
      "image/png": "[encoded data removed]",
      "text/plain": [
       "<Figure size 720x360 with 2 Axes>"
      ]
     },
     "metadata": {
      "needs_background": "light"
     },
     "output_type": "display_data"
    }
   ],
   "source": [
    "# plot strokes histogram\n",
    "x = np.array(lengths)\n",
    "\n",
    "fig, axs = plt.subplots(1, 2, sharey=True, tight_layout=False, figsize=(10, 5))\n",
    "\n",
    "axs[0].hist(x, bins=40)\n",
    "axs[0].set_title('Total distribution', fontsize=12)\n",
    "axs[0].set_xlabel('Number of points in stroke')\n",
    "axs[0].set_ylabel('Number of strokes')\n",
    "\n",
    "axs[1].hist(x, bins=20, range = (1, 90))\n",
    "axs[1].set_title('Zoomed to 1 - 80 points range', fontsize=12)\n",
    "\n",
    "fig.suptitle('Distribution of strokes lengths', fontsize=14)"
   ]
  },
  {
   "cell_type": "code",
   "execution_count": 13,
   "metadata": {},
   "outputs": [],
   "source": [
    "# choose the length of sequences to generate\n",
    "SEQ_LEN = 20\n",
    "\n",
    "def generate_sequences(parsed_strokes, sequence_length = SEQ_LEN):\n",
    "    sequences = np.zeros((1,sequence_length,3))\n",
    "    targets = np.zeros((1,1,3))\n",
    "    for stroke in parsed_strokes:\n",
    "        if len(parsed_strokes) < sequence_length + 1:\n",
    "            break;\n",
    "        for i in range(0, len(stroke) - sequence_length):\n",
    "            sequences = np.concatenate((sequences, stroke[i : i + sequence_length].reshape(1,sequence_length,3)), axis = 0)\n",
    "            targets = np.concatenate((targets, stroke[i + sequence_length:i + sequence_length + 1].reshape(1,1,3)), axis = 0)\n",
    "    return sequences[1:], targets[1:]"
   ]
  },
  {
   "cell_type": "code",
   "execution_count": 14,
   "metadata": {},
   "outputs": [],
   "source": [
    "seqs, targs = generate_sequences(parsed_strokes[:3000])"
   ]
  },
  {
   "cell_type": "code",
   "execution_count": 15,
   "metadata": {},
   "outputs": [
    {
     "data": {
      "text/plain": [
       "array([[[-0.17361112,  0.16141731,  0.        ],\n",
       "        [-0.08333333,  0.12204728,  0.        ],\n",
       "        [-0.0625    ,  0.20078737,  0.        ],\n",
       "        [ 0.        ,  0.05905515,  0.        ],\n",
       "        [ 0.05555556,  0.0669291 ,  0.        ],\n",
       "        [ 0.0763889 ,  0.03543305,  0.        ],\n",
       "        [ 0.1875    ,  0.05118114,  0.        ],\n",
       "        [ 0.31944445,  0.01968503,  0.        ],\n",
       "        [ 0.24305552, -0.06299216,  0.        ],\n",
       "        [ 0.05555558, -0.03149605,  0.        ],\n",
       "        [ 0.0486111 , -0.07086611,  0.        ],\n",
       "        [ 0.0138889 , -0.14960635,  0.        ],\n",
       "        [-0.04166669, -0.12598425,  0.        ],\n",
       "        [-0.06944442, -0.07480311,  0.        ],\n",
       "        [-0.1736111 , -0.11811024,  0.        ],\n",
       "        [-0.15277779, -0.05905512,  0.        ],\n",
       "        [-0.10416666, -0.02755907,  0.        ],\n",
       "        [-0.13194445, -0.01181102,  0.        ],\n",
       "        [ 0.        , -0.00787401,  1.        ],\n",
       "        [ 0.0625    , -0.03543307,  0.        ]]])"
      ]
     },
     "execution_count": 15,
     "metadata": {},
     "output_type": "execute_result"
    }
   ],
   "source": [
    "seqs[:1]"
   ]
  },
  {
   "cell_type": "code",
   "execution_count": 16,
   "metadata": {},
   "outputs": [
    {
     "data": {
      "text/plain": [
       "array([[[ 0.0138889 , -0.07086614,  0.        ]]])"
      ]
     },
     "execution_count": 16,
     "metadata": {},
     "output_type": "execute_result"
    }
   ],
   "source": [
    "targs[:1]"
   ]
  },
  {
   "cell_type": "code",
   "execution_count": 17,
   "metadata": {},
   "outputs": [],
   "source": [
    "# convert to torch tensors\n",
    "tseqs = torch.tensor(seqs).float()\n",
    "ttargs = torch.tensor(targs).float()"
   ]
  },
  {
   "cell_type": "code",
   "execution_count": 18,
   "metadata": {},
   "outputs": [],
   "source": [
    "# Create LSTM\n",
    "class SimpleLSTM(nn.Module):\n",
    "    '''\n",
    "    Simple LSTM model to generate new doodles.\n",
    "    '''\n",
    "    def __init__(self, input_size, hidden_size, output_size, num_layers):\n",
    "        super(SimpleLSTM, self).__init__()\n",
    "\n",
    "        self.hidden_size = hidden_size\n",
    "        self.num_layers = num_layers\n",
    "\n",
    "        self.lstm = nn.LSTM(input_size, hidden_size, num_layers)\n",
    "        self.linear = nn.Linear(hidden_size, output_size)\n",
    "        self.softmax = nn.LogSoftmax(dim=1)\n",
    "\n",
    "    def forward(self, input, hidden):\n",
    "        output, hidden = self.lstm(input.view(1, 1, -1), hidden)\n",
    "        \n",
    "        output = self.linear(output[-1].view(1, -1))\n",
    "        \n",
    "        output = self.softmax(output)\n",
    "        return output, hidden\n",
    "\n",
    "    # the initialization of the hidden state\n",
    "    # device is cpu or cuda\n",
    "    # I suggest using cuda to speedup the computation\n",
    "    def initHidden(self, device):\n",
    "        return (torch.zeros(self.num_layers, 1, self.hidden_size).to(device), torch.zeros(self.num_layers, 1, self.hidden_size).to(device))\n",
    "\n",
    "# Initialize LSTM\n",
    "n_hidden = 128\n",
    "num_layers = 2\n",
    "rnn = SimpleLSTM(3, n_hidden, 3, num_layers) # inputs and outputs of RNN are tensors representing words from the vocabulary"
   ]
  },
  {
   "cell_type": "code",
   "execution_count": 19,
   "metadata": {},
   "outputs": [],
   "source": [
    "learning_rate = 0.000001 \n",
    "criterion = nn.SmoothL1Loss()"
   ]
  },
  {
   "cell_type": "code",
   "execution_count": 20,
   "metadata": {},
   "outputs": [
    {
     "data": {
      "text/plain": [
       "device(type='cuda', index=0)"
      ]
     },
     "execution_count": 20,
     "metadata": {},
     "output_type": "execute_result"
    }
   ],
   "source": [
    "# device to use\n",
    "# don't forget to turn on GPU on kernel's settings\n",
    "device = torch.device('cuda:0' if torch.cuda.is_available() else \"cpu\")\n",
    "device"
   ]
  },
  {
   "cell_type": "code",
   "execution_count": 21,
   "metadata": {},
   "outputs": [],
   "source": [
    "# Define training procedure\n",
    "def train(sequence, target, device):\n",
    "    # Move tensors to device\n",
    "    hidden = rnn.initHidden(device)\n",
    "    sequence = sequence.to(device)\n",
    "    target = target.to(device)\n",
    "\n",
    "    rnn.zero_grad()\n",
    "\n",
    "    # Forward step\n",
    "    for i in range(sequence.size()[0]):\n",
    "        output, hidden = rnn(sequence[i], hidden)\n",
    "        \n",
    "    output, hidden = rnn(sequence[i], hidden)\n",
    "    \n",
    "    loss = criterion(output, target)\n",
    "    loss.backward()\n",
    "\n",
    "    # Add parameters' gradients to their values, multiplied by learning rate\n",
    "    for p in rnn.parameters():\n",
    "        p.data.add_(-learning_rate, p.grad.data)\n",
    "\n",
    "    return output, loss.item()"
   ]
  },
  {
   "cell_type": "code",
   "execution_count": 22,
   "metadata": {},
   "outputs": [
    {
     "name": "stdout",
     "output_type": "stream",
     "text": [
      "10000 2% (4m 56s) Loss: 0.5801\n",
      "20000 4% (9m 51s) Loss: 0.6173\n",
      "30000 6% (14m 47s) Loss: 0.5804\n",
      "40000 8% (19m 43s) Loss: 0.5408\n",
      "50000 10% (24m 40s) Loss: 0.5205\n",
      "60000 12% (29m 36s) Loss: 0.5905\n",
      "70000 14% (34m 34s) Loss: 0.6210\n",
      "80000 16% (39m 30s) Loss: 0.5782\n",
      "90000 18% (44m 27s) Loss: 0.5520\n",
      "100000 20% (49m 24s) Loss: 0.5434\n",
      "110000 22% (54m 20s) Loss: 0.6558\n",
      "120000 24% (59m 17s) Loss: 0.6037\n",
      "130000 26% (64m 13s) Loss: 0.6316\n",
      "140000 28% (69m 9s) Loss: 0.5545\n",
      "150000 30% (74m 6s) Loss: 0.5750\n",
      "160000 32% (78m 55s) Loss: 0.5665\n",
      "170000 34% (83m 41s) Loss: 0.9371\n",
      "180000 36% (88m 20s) Loss: 0.5625\n",
      "190000 38% (92m 52s) Loss: 0.6307\n",
      "200000 40% (97m 26s) Loss: 0.6118\n",
      "210000 42% (101m 59s) Loss: 0.6381\n",
      "220000 44% (106m 35s) Loss: 0.6185\n",
      "230000 46% (111m 7s) Loss: 0.5895\n",
      "240000 48% (115m 43s) Loss: 0.8750\n",
      "250000 50% (120m 23s) Loss: 0.6237\n",
      "260000 52% (125m 13s) Loss: 0.6166\n",
      "270000 54% (130m 2s) Loss: 0.5676\n",
      "280000 56% (134m 42s) Loss: 0.6157\n",
      "290000 57% (139m 17s) Loss: 0.5699\n",
      "300000 60% (143m 51s) Loss: 0.5923\n",
      "310000 62% (148m 25s) Loss: 0.5619\n",
      "320000 64% (152m 54s) Loss: 0.9086\n",
      "330000 66% (157m 28s) Loss: 0.5715\n",
      "340000 68% (162m 0s) Loss: 0.6559\n",
      "350000 70% (166m 51s) Loss: 0.5080\n",
      "360000 72% (171m 50s) Loss: 0.5883\n",
      "370000 74% (176m 50s) Loss: 0.9090\n",
      "380000 76% (181m 50s) Loss: 0.5968\n",
      "390000 78% (186m 49s) Loss: 0.5850\n",
      "400000 80% (191m 48s) Loss: 0.5687\n",
      "410000 82% (196m 48s) Loss: 0.5798\n",
      "420000 84% (201m 48s) Loss: 0.8845\n",
      "430000 86% (206m 48s) Loss: 0.6136\n",
      "440000 88% (211m 44s) Loss: 0.5537\n",
      "450000 90% (216m 36s) Loss: 0.5935\n",
      "460000 92% (221m 35s) Loss: 0.5680\n",
      "470000 94% (226m 35s) Loss: 0.5842\n",
      "480000 96% (231m 39s) Loss: 0.6119\n",
      "490000 98% (236m 41s) Loss: 0.6002\n",
      "500000 100% (241m 42s) Loss: 0.9552\n"
     ]
    }
   ],
   "source": [
    "# Set up the number of iterations, printing and plotting options\n",
    "n_iters = 500000\n",
    "print_every = 10000\n",
    "plot_every = 10000\n",
    "\n",
    "# Keep track of losses for plotting\n",
    "current_loss = 0\n",
    "all_losses = []\n",
    "\n",
    "rnn = rnn.to(device)\n",
    "\n",
    "def timeSince(since):\n",
    "    now = time.time()\n",
    "    s = now - since\n",
    "    m = math.floor(s / 60)\n",
    "    s -= m * 60\n",
    "    return '%dm %ds' % (m, s)\n",
    "\n",
    "# shuffle indices\n",
    "indices = np.random.permutation(tseqs.size()[0])\n",
    "\n",
    "start = time.time()\n",
    "\n",
    "# run training procedure\n",
    "for iter in range(1, n_iters + 1):\n",
    "    \n",
    "    # Pick index\n",
    "    index = indices[iter % tseqs.size()[0]]\n",
    "    \n",
    "    # Run one training step\n",
    "    output, loss = train(tseqs[index], ttargs[index], device)\n",
    "    current_loss += loss\n",
    "\n",
    "    # Print iter number and loss\n",
    "    if iter % print_every == 0:\n",
    "        print('%d %d%% (%s) Loss: %.4f' % (iter, iter / n_iters * 100, timeSince(start), loss))\n",
    "\n",
    "    # Add current loss avg to list of losses\n",
    "    if iter % plot_every == 0:\n",
    "        all_losses.append(current_loss / plot_every)\n",
    "        current_loss = 0"
   ]
  },
  {
   "cell_type": "code",
   "execution_count": 23,
   "metadata": {},
   "outputs": [
    {
     "data": {
      "text/plain": [
       "[<matplotlib.lines.Line2D at 0x7fe5b8a71c18>]"
      ]
     },
     "execution_count": 23,
     "metadata": {},
     "output_type": "execute_result"
    },
    {
     "data": {
      "image/png": "[encoded data removed]",
      "text/plain": [
       "<Figure size 432x288 with 1 Axes>"
      ]
     },
     "metadata": {
      "needs_background": "light"
     },
     "output_type": "display_data"
    }
   ],
   "source": [
    "# plot training loss\n",
    "plt.figure()\n",
    "plt.plot(all_losses)"
   ]
  },
  {
   "cell_type": "code",
   "execution_count": 24,
   "metadata": {},
   "outputs": [],
   "source": [
    "# Sample title from the trained model\n",
    "def sample():   \n",
    "    max_strokes = 30\n",
    "    \n",
    "    # Initialize input step and hidden state\n",
    "    input = torch.zeros(1, 3)\n",
    "    hidden = (torch.zeros(num_layers, 1, n_hidden).to(device), torch.zeros(num_layers, 1, n_hidden).to(device))\n",
    "    \n",
    "    i = 0\n",
    "    doodle = torch.zeros(1, 3).to(device)\n",
    "    output = torch.zeros(1, 3).to(device)\n",
    "    # Sample words from the model\n",
    "    while output[0,2] != 1.0 and i < max_strokes:\n",
    "          \n",
    "        input = input.to(device)\n",
    "        output, next_hidden = rnn(input, hidden)\n",
    "        \n",
    "        y = output.clone()\n",
    "        y = y.to(device)\n",
    "        doodle = torch.cat((doodle, output), dim = 0)\n",
    "         \n",
    "        hidden = next_hidden\n",
    "        input = output\n",
    "        i = i+1\n",
    "        \n",
    "    return doodle[1:]"
   ]
  },
  {
   "cell_type": "code",
   "execution_count": 25,
   "metadata": {},
   "outputs": [],
   "source": [
    "doodle = sample()"
   ]
  },
  {
   "cell_type": "code",
   "execution_count": 26,
   "metadata": {},
   "outputs": [
    {
     "data": {
      "text/plain": [
       "tensor([[-1.1641, -1.0757, -1.0592],\n",
       "        [-1.1558, -1.0777, -1.0647],\n",
       "        [-1.1493, -1.0799, -1.0685],\n",
       "        [-1.1448, -1.0818, -1.0708],\n",
       "        [-1.1418, -1.0833, -1.0721],\n",
       "        [-1.1399, -1.0844, -1.0728],\n",
       "        [-1.1388, -1.0851, -1.0731],\n",
       "        [-1.1382, -1.0856, -1.0732],\n",
       "        [-1.1378, -1.0859, -1.0733],\n",
       "        [-1.1375, -1.0861, -1.0733],\n",
       "        [-1.1374, -1.0863, -1.0733],\n",
       "        [-1.1373, -1.0864, -1.0733],\n",
       "        [-1.1373, -1.0864, -1.0733],\n",
       "        [-1.1372, -1.0865, -1.0733],\n",
       "        [-1.1372, -1.0865, -1.0733],\n",
       "        [-1.1372, -1.0865, -1.0733],\n",
       "        [-1.1372, -1.0865, -1.0733],\n",
       "        [-1.1372, -1.0865, -1.0733],\n",
       "        [-1.1372, -1.0865, -1.0733],\n",
       "        [-1.1372, -1.0865, -1.0733],\n",
       "        [-1.1372, -1.0865, -1.0733],\n",
       "        [-1.1372, -1.0865, -1.0733],\n",
       "        [-1.1372, -1.0865, -1.0733],\n",
       "        [-1.1372, -1.0865, -1.0733],\n",
       "        [-1.1372, -1.0865, -1.0733],\n",
       "        [-1.1372, -1.0865, -1.0733],\n",
       "        [-1.1372, -1.0865, -1.0733],\n",
       "        [-1.1372, -1.0865, -1.0733],\n",
       "        [-1.1372, -1.0865, -1.0733],\n",
       "        [-1.1372, -1.0865, -1.0733]], device='cuda:0', grad_fn=<SliceBackward>)"
      ]
     },
     "execution_count": 26,
     "metadata": {},
     "output_type": "execute_result"
    }
   ],
   "source": [
    "doodle"
   ]
  },
  {
   "cell_type": "code",
   "execution_count": 27,
   "metadata": {},
   "outputs": [
    {
     "data": {
      "image/png": "[encoded data removed]",
      "text/plain": [
       "<Figure size 360x360 with 1 Axes>"
      ]
     },
     "metadata": {
      "needs_background": "light"
     },
     "output_type": "display_data"
    }
   ],
   "source": [
    "plot_doodle(doodle)"
   ]
  },
  {
   "cell_type": "markdown",
   "metadata": {},
   "source": [
    "## References:\n",
    "1. [PyTorch loss functions](https://medium.com/udacity-pytorch-challengers/a-brief-overview-of-loss-functions-in-pytorch-c0ddb78068f7) - overview of loss functions in PyTorch."
   ]
  }
 ],
 "metadata": {
  "kernelspec": {
   "display_name": "Python 3",
   "language": "python",
   "name": "python3"
  },
  "language_info": {
   "codemirror_mode": {
    "name": "ipython",
    "version": 3
   },
   "file_extension": ".py",
   "mimetype": "text/x-python",
   "name": "python",
   "nbconvert_exporter": "python",
   "pygments_lexer": "ipython3",
   "version": "3.6.6"
  }
 },
 "nbformat": 4,
 "nbformat_minor": 1
}
